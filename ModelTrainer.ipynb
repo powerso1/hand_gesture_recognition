{
 "cells": [
  {
   "cell_type": "code",
   "execution_count": 44,
   "source": [
    "import tensorflow as tf\n",
    "import tflearn\n",
    "from tflearn.layers.conv import conv_2d,max_pool_2d\n",
    "from tflearn.layers.core import input_data,dropout,fully_connected\n",
    "from tflearn.layers.estimator import regression\n",
    "import numpy as np\n",
    "import cv2\n",
    "from sklearn.utils import shuffle"
   ],
   "outputs": [],
   "metadata": {}
  },
  {
   "cell_type": "code",
   "execution_count": 45,
   "source": [
    "#Load Images from Swing\n",
    "loadedImages = []\n",
    "for i in range(0, 1000):\n",
    "    image = cv2.imread('Dataset/SwingImages/swing_' + str(i) + '.png')\n",
    "    gray_image = cv2.cvtColor(image, cv2.COLOR_BGR2GRAY)\n",
    "    loadedImages.append(gray_image.reshape(89, 100, 1))\n",
    "\n",
    "#Load Images From Palm\n",
    "for i in range(0, 1000):\n",
    "    image = cv2.imread('Dataset/PalmImages/palm_' + str(i) + '.png')\n",
    "    gray_image = cv2.cvtColor(image, cv2.COLOR_BGR2GRAY)\n",
    "    loadedImages.append(gray_image.reshape(89, 100, 1))\n",
    "    \n",
    "#Load Images From Fist\n",
    "for i in range(0, 1000):\n",
    "    image = cv2.imread('Dataset/FistImages/fist_' + str(i) + '.png')\n",
    "    gray_image = cv2.cvtColor(image, cv2.COLOR_BGR2GRAY)\n",
    "    loadedImages.append(gray_image.reshape(89, 100, 1))\n",
    "\n",
    "#Load Images From Finger\n",
    "for i in range(0, 1000):\n",
    "    image = cv2.imread('Dataset/FingerImages/finger_' + str(i) + '.png')\n",
    "    gray_image = cv2.cvtColor(image, cv2.COLOR_BGR2GRAY)\n",
    "    loadedImages.append(gray_image.reshape(89, 100, 1))\n",
    "\n"
   ],
   "outputs": [],
   "metadata": {}
  },
  {
   "cell_type": "markdown",
   "source": [],
   "metadata": {}
  },
  {
   "cell_type": "code",
   "execution_count": 46,
   "source": [
    "# Create OutputVector\n",
    "\n",
    "outputVectors = []\n",
    "for i in range(0, 1000):\n",
    "    outputVectors.append([1, 0, 0, 0])\n",
    "\n",
    "for i in range(0, 1000):\n",
    "    outputVectors.append([0, 1, 0, 0])\n",
    "\n",
    "for i in range(0, 1000):\n",
    "    outputVectors.append([0, 0, 1, 0])\n",
    "\n",
    "for i in range(0, 1000):\n",
    "    outputVectors.append([0, 0, 0, 1])\n",
    "\n"
   ],
   "outputs": [],
   "metadata": {}
  },
  {
   "cell_type": "code",
   "execution_count": 47,
   "source": [
    "testImages = []\n",
    "\n",
    "#Load Images for swing\n",
    "for i in range(0, 100):\n",
    "    image = cv2.imread('Dataset/SwingTest/swing_' + str(i) + '.png')\n",
    "    gray_image = cv2.cvtColor(image, cv2.COLOR_BGR2GRAY)\n",
    "    testImages.append(gray_image.reshape(89, 100, 1))\n",
    "\n",
    "#Load Images for Palm\n",
    "for i in range(0, 100):\n",
    "    image = cv2.imread('Dataset/PalmTest/palm_' + str(i) + '.png')\n",
    "    gray_image = cv2.cvtColor(image, cv2.COLOR_BGR2GRAY)\n",
    "    testImages.append(gray_image.reshape(89, 100, 1))\n",
    "    \n",
    "#Load Images for Fist\n",
    "for i in range(0, 100):\n",
    "    image = cv2.imread('Dataset/FistTest/fist_' + str(i) + '.png')\n",
    "    gray_image = cv2.cvtColor(image, cv2.COLOR_BGR2GRAY)\n",
    "    testImages.append(gray_image.reshape(89, 100, 1))\n",
    "\n",
    "#Load Images for Finger\n",
    "for i in range(0, 100):\n",
    "    image = cv2.imread('Dataset/FingerTest/finger_' + str(i) + '.png')\n",
    "    gray_image = cv2.cvtColor(image, cv2.COLOR_BGR2GRAY)\n",
    "    testImages.append(gray_image.reshape(89, 100, 1))\n",
    "\n",
    "testLabels = []\n",
    "\n",
    "for i in range(0, 100):\n",
    "    testLabels.append([1, 0, 0, 0])\n",
    "    \n",
    "for i in range(0, 100):\n",
    "    testLabels.append([0, 1, 0, 0])\n",
    "\n",
    "for i in range(0, 100):\n",
    "    testLabels.append([0, 0, 1, 0])\n",
    "\n",
    "for i in range(0, 100):\n",
    "    testLabels.append([0, 0, 0, 1])    "
   ],
   "outputs": [],
   "metadata": {}
  },
  {
   "cell_type": "code",
   "execution_count": 48,
   "source": [
    "# Define the CNN Model\n",
    "tf.compat.v1.reset_default_graph()\n",
    "convnet=input_data(shape=[None,89,100,1],name='input')\n",
    "convnet=conv_2d(convnet,32,2,activation='relu')\n",
    "convnet=max_pool_2d(convnet,2)\n",
    "convnet=conv_2d(convnet,64,2,activation='relu')\n",
    "convnet=max_pool_2d(convnet,2)\n",
    "\n",
    "convnet=conv_2d(convnet,128,2,activation='relu')\n",
    "convnet=max_pool_2d(convnet,2)\n",
    "\n",
    "convnet=conv_2d(convnet,256,2,activation='relu')\n",
    "convnet=max_pool_2d(convnet,2)\n",
    "\n",
    "convnet=conv_2d(convnet,256,2,activation='relu')\n",
    "convnet=max_pool_2d(convnet,2)\n",
    "\n",
    "convnet=conv_2d(convnet,128,2,activation='relu')\n",
    "convnet=max_pool_2d(convnet,2)\n",
    "\n",
    "convnet=conv_2d(convnet,64,2,activation='relu')\n",
    "convnet=max_pool_2d(convnet,2)\n",
    "\n",
    "convnet=fully_connected(convnet,1000,activation='relu')\n",
    "convnet=dropout(convnet,0.75)\n",
    "\n",
    "convnet=fully_connected(convnet,4,activation='softmax')\n",
    "\n",
    "convnet=regression(convnet,optimizer='adam',learning_rate=0.001,loss='categorical_crossentropy',name='regression')\n",
    "\n",
    "model=tflearn.DNN(convnet,tensorboard_verbose=0)\n"
   ],
   "outputs": [],
   "metadata": {}
  },
  {
   "cell_type": "code",
   "execution_count": 49,
   "source": [
    "# Shuffle Training Data\n",
    "loadedImages, outputVectors = shuffle(loadedImages, outputVectors, random_state=0)\n",
    "\n",
    "# Train model\n",
    "model.fit(loadedImages, outputVectors, n_epoch=50,\n",
    "           validation_set = (testImages, testLabels),\n",
    "           snapshot_step=100, show_metric=True, run_id='convnet_coursera')\n",
    "\n",
    "model.save(\"TrainedModel/GestureRecogModel.tfl\")"
   ],
   "outputs": [
    {
     "output_type": "stream",
     "name": "stdout",
     "text": [
      "Training Step: 3149  | total loss: \u001b[1m\u001b[32m0.00980\u001b[0m\u001b[0m | time: 25.752s\n",
      "| Adam | epoch: 050 | loss: 0.00980 - acc: 0.9994 -- iter: 3968/4000\n",
      "Training Step: 3150  | total loss: \u001b[1m\u001b[32m0.00885\u001b[0m\u001b[0m | time: 27.142s\n",
      "| Adam | epoch: 050 | loss: 0.00885 - acc: 0.9994 | val_loss: 0.02595 - val_acc: 0.9950 -- iter: 4000/4000\n",
      "--\n",
      "INFO:tensorflow:/home/duc/Python/Hand-Gesture-Recognition-Using-Background-Elllimination-and-Convolution-Neural-Network/TrainedModel/GestureRecogModel.tfl is not in all_model_checkpoint_paths. Manually adding it.\n"
     ]
    }
   ],
   "metadata": {}
  },
  {
   "cell_type": "code",
   "execution_count": null,
   "source": [],
   "outputs": [],
   "metadata": {}
  }
 ],
 "metadata": {
  "kernelspec": {
   "name": "python3",
   "display_name": "Python 3.8.10 64-bit ('base': conda)"
  },
  "language_info": {
   "codemirror_mode": {
    "name": "ipython",
    "version": 3
   },
   "file_extension": ".py",
   "mimetype": "text/x-python",
   "name": "python",
   "nbconvert_exporter": "python",
   "pygments_lexer": "ipython3",
   "version": "3.8.10"
  },
  "interpreter": {
   "hash": "bf233dacc72bd970752344aa0faa66edc73b8457c18e2c439988a8d7b98957e3"
  }
 },
 "nbformat": 4,
 "nbformat_minor": 2
}